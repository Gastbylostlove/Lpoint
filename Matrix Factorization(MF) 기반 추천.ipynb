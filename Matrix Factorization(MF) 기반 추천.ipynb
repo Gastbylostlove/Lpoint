{
 "cells": [
  {
   "cell_type": "code",
   "execution_count": 1,
   "id": "3c181b51",
   "metadata": {
    "ExecuteTime": {
     "end_time": "2022-08-02T07:54:33.739391Z",
     "start_time": "2022-08-02T07:54:30.331494Z"
    }
   },
   "outputs": [],
   "source": [
    "import numpy as np\n",
    "import pandas as pd\n",
    "import matplotlib.pyplot as plt\n",
    "import seaborn as sns\n",
    "import statistics as stats\n",
    "import datetime\n",
    "%matplotlib inline \n",
    "plt.rc(\"font\", family = \"Malgun Gothic\")\n",
    "sns.set(font=\"Malgun Gothic\", \n",
    "rc={\"axes.unicode_minus\":False}, style='darkgrid')\n",
    "\n",
    "import matplotlib as mpl\n",
    "\n",
    "mpl.rcParams['axes.unicode_minus'] = False"
   ]
  },
  {
   "cell_type": "code",
   "execution_count": 2,
   "id": "82132686",
   "metadata": {
    "ExecuteTime": {
     "end_time": "2022-08-02T09:04:48.896206Z",
     "start_time": "2022-08-02T09:04:48.372368Z"
    }
   },
   "outputs": [],
   "source": [
    "uir_df = pd.read_csv('./uir.csv', index_col = 0)"
   ]
  },
  {
   "cell_type": "code",
   "execution_count": 3,
   "id": "85ed34be",
   "metadata": {
    "ExecuteTime": {
     "end_time": "2022-08-02T09:04:53.031262Z",
     "start_time": "2022-08-02T09:04:50.513212Z"
    }
   },
   "outputs": [
    {
     "data": {
      "text/html": [
       "<div>\n",
       "<style scoped>\n",
       "    .dataframe tbody tr th:only-of-type {\n",
       "        vertical-align: middle;\n",
       "    }\n",
       "\n",
       "    .dataframe tbody tr th {\n",
       "        vertical-align: top;\n",
       "    }\n",
       "\n",
       "    .dataframe thead th {\n",
       "        text-align: right;\n",
       "    }\n",
       "</style>\n",
       "<table border=\"1\" class=\"dataframe\">\n",
       "  <thead>\n",
       "    <tr style=\"text-align: right;\">\n",
       "      <th></th>\n",
       "      <th>cust</th>\n",
       "      <th>pd_c</th>\n",
       "      <th>Rating</th>\n",
       "    </tr>\n",
       "  </thead>\n",
       "  <tbody>\n",
       "    <tr>\n",
       "      <th>0</th>\n",
       "      <td>M000034966</td>\n",
       "      <td>PD0116</td>\n",
       "      <td>1.000000</td>\n",
       "    </tr>\n",
       "    <tr>\n",
       "      <th>1</th>\n",
       "      <td>M000034966</td>\n",
       "      <td>PD0169</td>\n",
       "      <td>1.000000</td>\n",
       "    </tr>\n",
       "    <tr>\n",
       "      <th>2</th>\n",
       "      <td>M000034966</td>\n",
       "      <td>PD0178</td>\n",
       "      <td>1.000000</td>\n",
       "    </tr>\n",
       "    <tr>\n",
       "      <th>3</th>\n",
       "      <td>M000034966</td>\n",
       "      <td>PD0204</td>\n",
       "      <td>1.000000</td>\n",
       "    </tr>\n",
       "    <tr>\n",
       "      <th>4</th>\n",
       "      <td>M000034966</td>\n",
       "      <td>PD0218</td>\n",
       "      <td>1.405571</td>\n",
       "    </tr>\n",
       "    <tr>\n",
       "      <th>...</th>\n",
       "      <td>...</td>\n",
       "      <td>...</td>\n",
       "      <td>...</td>\n",
       "    </tr>\n",
       "    <tr>\n",
       "      <th>1637596</th>\n",
       "      <td>M999962961</td>\n",
       "      <td>PD1857</td>\n",
       "      <td>1.000000</td>\n",
       "    </tr>\n",
       "    <tr>\n",
       "      <th>1637597</th>\n",
       "      <td>M999962961</td>\n",
       "      <td>PD1889</td>\n",
       "      <td>1.405571</td>\n",
       "    </tr>\n",
       "    <tr>\n",
       "      <th>1637598</th>\n",
       "      <td>M999962961</td>\n",
       "      <td>PD1896</td>\n",
       "      <td>1.000000</td>\n",
       "    </tr>\n",
       "    <tr>\n",
       "      <th>1637599</th>\n",
       "      <td>M999962961</td>\n",
       "      <td>PD1918</td>\n",
       "      <td>1.000000</td>\n",
       "    </tr>\n",
       "    <tr>\n",
       "      <th>1637600</th>\n",
       "      <td>M999962961</td>\n",
       "      <td>PD1919</td>\n",
       "      <td>2.048386</td>\n",
       "    </tr>\n",
       "  </tbody>\n",
       "</table>\n",
       "<p>1637601 rows × 3 columns</p>\n",
       "</div>"
      ],
      "text/plain": [
       "               cust    pd_c    Rating\n",
       "0        M000034966  PD0116  1.000000\n",
       "1        M000034966  PD0169  1.000000\n",
       "2        M000034966  PD0178  1.000000\n",
       "3        M000034966  PD0204  1.000000\n",
       "4        M000034966  PD0218  1.405571\n",
       "...             ...     ...       ...\n",
       "1637596  M999962961  PD1857  1.000000\n",
       "1637597  M999962961  PD1889  1.405571\n",
       "1637598  M999962961  PD1896  1.000000\n",
       "1637599  M999962961  PD1918  1.000000\n",
       "1637600  M999962961  PD1919  2.048386\n",
       "\n",
       "[1637601 rows x 3 columns]"
      ]
     },
     "execution_count": 3,
     "metadata": {},
     "output_type": "execute_result"
    },
    {
     "name": "stderr",
     "output_type": "stream",
     "text": [
      "findfont: Font family ['Malgun Gothic'] not found. Falling back to DejaVu Sans.\n"
     ]
    },
    {
     "data": {
      "image/png": "[encoded data removed]",
      "text/plain": [
       "<Figure size 432x288 with 1 Axes>"
      ]
     },
     "metadata": {},
     "output_type": "display_data"
    }
   ],
   "source": [
    "uir_df['Rating'] = uir_df['rct_no'].apply(lambda x: np.log10(x)+1)\n",
    "uir_df['Rating'] = ((uir_df['Rating']- uir_df['Rating'].min()) / (uir_df['Rating'].max() - uir_df['Rating'].min()) * 4) + 1\n",
    "uir_df['Rating'].hist(bins=20, grid=False)\n",
    "uir_df = uir_df[['cust','pd_c','Rating']]\n",
    "ratings = uir_df\n",
    "ratings"
   ]
  },
  {
   "cell_type": "code",
   "execution_count": 7,
   "id": "39f1c7ca",
   "metadata": {},
   "outputs": [
    {
     "name": "stdout",
     "output_type": "stream",
     "text": [
      "K =  10\n"
     ]
    },
    {
     "ename": "NameError",
     "evalue": "name 'NEW_MF' is not defined",
     "output_type": "error",
     "traceback": [
      "\u001b[0;31m---------------------------------------------------------------------------\u001b[0m",
      "\u001b[0;31mNameError\u001b[0m                                 Traceback (most recent call last)",
      "Input \u001b[0;32mIn [7]\u001b[0m, in \u001b[0;36m<cell line: 1>\u001b[0;34m()\u001b[0m\n\u001b[0;32m----> 1\u001b[0m \u001b[38;5;28;01mclass\u001b[39;00m \u001b[38;5;21;01mNEW_MF\u001b[39;00m():\n\u001b[1;32m      2\u001b[0m     results \u001b[38;5;241m=\u001b[39m []\n\u001b[1;32m      3\u001b[0m     index \u001b[38;5;241m=\u001b[39m []\n",
      "Input \u001b[0;32mIn [7]\u001b[0m, in \u001b[0;36mNEW_MF\u001b[0;34m()\u001b[0m\n\u001b[1;32m      5\u001b[0m \u001b[38;5;28mprint\u001b[39m(\u001b[38;5;124m'\u001b[39m\u001b[38;5;124mK = \u001b[39m\u001b[38;5;124m'\u001b[39m, K)\n\u001b[1;32m      6\u001b[0m R_temp \u001b[38;5;241m=\u001b[39m ratings\n\u001b[0;32m----> 7\u001b[0m mf \u001b[38;5;241m=\u001b[39m \u001b[43mNEW_MF\u001b[49m(R_temp, K\u001b[38;5;241m=\u001b[39mK, alpha \u001b[38;5;241m=\u001b[39m \u001b[38;5;241m0.001\u001b[39m, beta \u001b[38;5;241m=\u001b[39m \u001b[38;5;241m0.02\u001b[39m, iterations \u001b[38;5;241m=\u001b[39m \u001b[38;5;241m300\u001b[39m, verbose \u001b[38;5;241m=\u001b[39m \u001b[38;5;28;01mTrue\u001b[39;00m)\n\u001b[1;32m      8\u001b[0m test_set \u001b[38;5;241m=\u001b[39m mf\u001b[38;5;241m.\u001b[39mset_test(ratings_test)\n\u001b[1;32m      9\u001b[0m result \u001b[38;5;241m=\u001b[39m mf\u001b[38;5;241m.\u001b[39mtest()\n",
      "\u001b[0;31mNameError\u001b[0m: name 'NEW_MF' is not defined"
     ]
    }
   ],
   "source": [
    "class NEW_MF():\n",
    "    results = []\n",
    "    index = []\n",
    "    for K in range(10,261,10):\n",
    "        print('K = ', K)\n",
    "        R_temp = ratings\n",
    "        mf = NEW_MF(R_temp, K=K, alpha = 0.001, beta = 0.02, iterations = 300, verbose = True)\n",
    "        test_set = mf.set_test(ratings_test)\n",
    "        result = mf.test()\n",
    "        index.append(K)\n",
    "        results.append(result)\n",
    "        \n",
    "        # 최적의 iterations값 찾기\n",
    "    summary = []\n",
    "    for i in range(len(results)):\n",
    "        RMSE = []\n",
    "        for result in results[i]:\n",
    "            RMSE.append(result[2])\n",
    "        min = np.min(RMSE)\n",
    "        j = RMSE.index(min)\n",
    "        summary.append([index[i], j+1, RMSE[j]])"
   ]
  },
  {
   "cell_type": "code",
   "execution_count": 4,
   "id": "57e92783",
   "metadata": {
    "ExecuteTime": {
     "end_time": "2022-08-02T07:54:44.825472Z",
     "start_time": "2022-08-02T07:54:44.795174Z"
    }
   },
   "outputs": [],
   "source": [
    "class MF():\n",
    "    def __init__(self, ratings, K, alpha, beta, iterations, verbose=True): # 클래스 생성시 실행되는 초기화 함수\n",
    "        \n",
    "        self.R = np.array(ratings) # 평점데이터를 array로 바꿔서 클래스 변수 self.R에 저장\n",
    "        \n",
    "        self.num_users, self.num_items = np.shape(self.R) # 사용자 수(num_users)와 아이템 수(num_items)를 받아옴\n",
    "        \n",
    "        self.K = K # 잠재요인의 수\n",
    "        self.alpha = alpha # 학습률\n",
    "        self.beta = beta # 정규화 계수\n",
    "        self.iterations = iterations # SGD 반복 횟수\n",
    "        self.verbose = verbose # SGD 중간 학습과정을 출력할 것인가\n",
    "        \n",
    "    def rmse(self): # 현재의 P, Q를 가지고 RMSE를 계산해 주는 함수\n",
    "        xs,ys = self.R.nonzero() # R에서 평점이 있는(0이 아닌) 요소의 인덱스를 가져온다\n",
    "        self.predictions = []\n",
    "        self.errors = []\n",
    "        for x,y in zip(xs, ys): # 평점이 있는 요소(사용자 x, 아이템 y) 각각에 대해서 아래의 코드를 실행\n",
    "            \n",
    "            # 사용자 x, 아이템 y에 대해서 평점 예측치를 get_prediction()함수를 사용해서 계산한다.\n",
    "            prediction = self.get_prediction(x,y)\n",
    "            \n",
    "            self.predictions.append(prediction) # 예측값을 예측값 리스트에 추가\n",
    "            self.errors.append(self.R[x,y] - prediction) # 실제값(R)과 예측값의 차이(errors) 계산해서 오차값 리스트에 추가\n",
    "        self.predictions = np.array(self.predictions)\n",
    "        self.errors = np.array(self.errors)\n",
    "        \n",
    "        return np.sqrt(np.mean(self.errors**2)) # errors를 사용해서 RMSE를 계산\n",
    "    \n",
    "    def train(self): # 정해진 반복 횟수만큼 P,Q,bu,bd값을 업데이트 하는 함수\n",
    "        \n",
    "        # P행렬을 임의의 값으로 채움, 여기서 평균 0, 표준편차 1/K인 정규분포를 갖는 난수로 초기화\n",
    "        self.P = np.random.normal(scale=1./self.K,size=(self.num_users,self.K))\n",
    "        \n",
    "        # Q행렬 역시 같은 방식으로 초기화\n",
    "        self.Q = np.random.normal(scale=1./self.K,size=(self.num_items,self.K))\n",
    "        \n",
    "        # 사용자 평가경향 bu를 0으로 초기화, 사용자 평가경향이므로 array의 크기는 사용자 수(num_users)와 동일 \n",
    "        self.b_u = np.zeros(self.num_users)\n",
    "        \n",
    "        # 아이템 평가경향 bd를 0으로 초기화, 아이템 평가경향이므로 array의 크기는 아이템 수(num_items)와 동일\n",
    "        self.b_d = np.zeros(self.num_items)\n",
    "        \n",
    "        # 전체 평균 b를 구해서 저장\n",
    "        self.b = np.mean(self.R[self.R.nonzero()])\n",
    "        \n",
    "        # 평점행렬R 중에서 평점이 있는(0이 아닌) 요소의 인덱스를 가져옴\n",
    "        rows,columns = self.R.nonzero()\n",
    "        \n",
    "        # SGD를 적용할 대상, 즉 평점이 있는 요소의 인덱스와 평점을 리스트로 만들어서 samples에 저장\n",
    "        self.samples = [(i,j,self.R[i,j]) for i,j in zip(rows,columns)]\n",
    "        \n",
    "        # training_process를 초기화, 여기에는 SGD를 한번 실행할 때마다 RMSE가 얼마나 개선되는지를 기록\n",
    "        training_process = []\n",
    "        \n",
    "        for i in range(self.iterations): # 지정한 횟수만큼 SGD를 실행\n",
    "            \n",
    "            # samples를 임의로 섞는다, 섞는 이유는 다른 기계학습 알고리즘과 마찬가지로 SGD를 어디서 시작하느냐에 따라,\n",
    "            # 수렴의 속도가 달라질 수 있기 때문에 매 반복마다 다양한 시작점에서 출발하기 위함\n",
    "            np.random.shuffle(self.samples)\n",
    "            \n",
    "            self.sgd() # SGD호출\n",
    "            \n",
    "            rmse = self.rmse() # SGD로 P,Q,bu,bd가 업데이트 되었으므로 이에 따른 새로운 RMSE를 계산\n",
    "            \n",
    "            training_process.append((i+1,rmse)) # 결과를 저장\n",
    "            \n",
    "            if self.verbose:\n",
    "                if (i+1) % 10 == 0:\n",
    "                    print(\"Iteration : %d ; Train RMSE = %.4f \" %(i+1, rmse))\n",
    "        return training_process # 최종결과를 반환\n",
    "    \n",
    "    def get_prediction(self, i, j): # 평점 예측값을 구하는 함수\n",
    "        # 사용자 i, 아이템 j에 대한 평점 예측치를 구한다\n",
    "        prediction = self.b + self.b_u[i] + self.b_d[j] + self.P[i,:].dot(self.Q[j,:].T)\n",
    "        return prediction\n",
    "    \n",
    "    def sgd(self): # 실제로 SGD를 실행하는 함수\n",
    "        # samples에 있는 각 (사용자 - 아이템 - 평점) 세트에 대해서 SGD를 적용한다\n",
    "        for i, j, r in self.samples:\n",
    "            prediction = self.get_prediction(i,j) # 사용자 i, 아이템 j에 대한 평점 예측치를 구한다.\n",
    "            e = (r - prediction) # 실제 평점과 비교해서 오차를 구한다\n",
    "            \n",
    "            self.b_u[i] += self.alpha * (e - self.beta * self.b_u[i]) # 사용자 평가경향(bu)를 업데이트 한다\n",
    "            self.b_d[j] += self.alpha * (e - self.beta * self.b_d[j]) # 아이템 평가경향(bd)를 업데이트 한다\n",
    "            \n",
    "            self.P[i,:] += self.alpha * (e - self.Q[j,:] - self.beta * self.P[i,:]) # P행렬을 업데이트\n",
    "            self.Q[j,:] += self.alpha * (e - self.P[i,:] - self.beta * self.Q[j,:]) # Q행렬을 업데이트\n",
    "            "
   ]
  },
  {
   "cell_type": "code",
   "execution_count": 5,
   "id": "3d10af9b",
   "metadata": {
    "ExecuteTime": {
     "end_time": "2022-08-02T07:54:52.893752Z",
     "start_time": "2022-08-02T07:54:50.966842Z"
    }
   },
   "outputs": [],
   "source": [
    "R_temp = ratings.pivot(index='cust',columns='pd_c',values='Rating').fillna(0)\n",
    "# ratings데이터를 full matrix로 변환한다. MF클래스 내부적으로 full matrix(self.R)를 계산에 사용하기 때문에 미리 변환"
   ]
  },
  {
   "cell_type": "code",
   "execution_count": 11,
   "id": "745bedeb",
   "metadata": {
    "ExecuteTime": {
     "end_time": "2022-08-02T07:54:58.400574Z",
     "start_time": "2022-08-02T07:54:58.259273Z"
    }
   },
   "outputs": [],
   "source": [
    "mf = MF(R_temp, K=10, alpha=0.001, beta=0.02, iterations=10, verbose=True)\n",
    "# MF클래스를 생성, 잠재요인 K=30, alpha=0.001, beta=0.02, 반복횟수 iterations=100, verbose=True로 생성"
   ]
  },
  {
   "cell_type": "code",
   "execution_count": 12,
   "id": "cffa80ff",
   "metadata": {
    "ExecuteTime": {
     "end_time": "2022-08-02T08:12:42.728305Z",
     "start_time": "2022-08-02T07:55:53.108882Z"
    }
   },
   "outputs": [
    {
     "name": "stdout",
     "output_type": "stream",
     "text": [
      "Iteration : 10 ; Train RMSE = 4.5451 \n"
     ]
    },
    {
     "name": "stderr",
     "output_type": "stream",
     "text": [
      "/var/folders/1r/w554lp_s677_dbwqw3vmnhmh0000gn/T/ipykernel_28956/2969017768.py:88: RuntimeWarning: invalid value encountered in subtract\n",
      "  self.Q[j,:] += self.alpha * (e - self.P[i,:] - self.beta * self.Q[j,:]) # Q행렬을 업데이트\n",
      "/var/folders/1r/w554lp_s677_dbwqw3vmnhmh0000gn/T/ipykernel_28956/2969017768.py:84: RuntimeWarning: invalid value encountered in double_scalars\n",
      "  self.b_u[i] += self.alpha * (e - self.beta * self.b_u[i]) # 사용자 평가경향(bu)를 업데이트 한다\n",
      "/var/folders/1r/w554lp_s677_dbwqw3vmnhmh0000gn/T/ipykernel_28956/2969017768.py:87: RuntimeWarning: invalid value encountered in add\n",
      "  self.P[i,:] += self.alpha * (e - self.Q[j,:] - self.beta * self.P[i,:]) # P행렬을 업데이트\n",
      "/var/folders/1r/w554lp_s677_dbwqw3vmnhmh0000gn/T/ipykernel_28956/2969017768.py:75: RuntimeWarning: invalid value encountered in double_scalars\n",
      "  prediction = self.b + self.b_u[i] + self.b_d[j] + self.P[i,:].dot(self.Q[j,:].T)\n"
     ]
    },
    {
     "name": "stdout",
     "output_type": "stream",
     "text": [
      "Iteration : 20 ; Train RMSE = nan \n",
      "Iteration : 30 ; Train RMSE = nan \n",
      "Iteration : 40 ; Train RMSE = nan \n",
      "Iteration : 50 ; Train RMSE = nan \n",
      "Iteration : 60 ; Train RMSE = nan \n",
      "Iteration : 70 ; Train RMSE = nan \n",
      "Iteration : 80 ; Train RMSE = nan \n",
      "Iteration : 90 ; Train RMSE = nan \n",
      "Iteration : 100 ; Train RMSE = nan \n"
     ]
    }
   ],
   "source": [
    "train_process = mf.train()"
   ]
  },
  {
   "cell_type": "markdown",
   "id": "35a7cf95",
   "metadata": {},
   "source": [
    "코드에 문제가 있거나, 데이터에 문제가 있는것 같다...ㅠㅠ, 정확도가 너무 처참하다"
   ]
  },
  {
   "cell_type": "markdown",
   "id": "cb836fa9",
   "metadata": {},
   "source": [
    "### train/test 분리 MF 알고리즘"
   ]
  },
  {
   "cell_type": "code",
   "execution_count": 13,
   "id": "0cd9c76f",
   "metadata": {
    "ExecuteTime": {
     "end_time": "2022-08-02T09:05:05.310871Z",
     "start_time": "2022-08-02T09:05:02.402513Z"
    }
   },
   "outputs": [
    {
     "ename": "KeyError",
     "evalue": "'cust'",
     "output_type": "error",
     "traceback": [
      "\u001b[0;31m---------------------------------------------------------------------------\u001b[0m",
      "\u001b[0;31mKeyError\u001b[0m                                  Traceback (most recent call last)",
      "File \u001b[0;32m~/opt/anaconda3/lib/python3.9/site-packages/pandas/core/indexes/base.py:3621\u001b[0m, in \u001b[0;36mIndex.get_loc\u001b[0;34m(self, key, method, tolerance)\u001b[0m\n\u001b[1;32m   3620\u001b[0m \u001b[38;5;28;01mtry\u001b[39;00m:\n\u001b[0;32m-> 3621\u001b[0m     \u001b[38;5;28;01mreturn\u001b[39;00m \u001b[38;5;28;43mself\u001b[39;49m\u001b[38;5;241;43m.\u001b[39;49m\u001b[43m_engine\u001b[49m\u001b[38;5;241;43m.\u001b[39;49m\u001b[43mget_loc\u001b[49m\u001b[43m(\u001b[49m\u001b[43mcasted_key\u001b[49m\u001b[43m)\u001b[49m\n\u001b[1;32m   3622\u001b[0m \u001b[38;5;28;01mexcept\u001b[39;00m \u001b[38;5;167;01mKeyError\u001b[39;00m \u001b[38;5;28;01mas\u001b[39;00m err:\n",
      "File \u001b[0;32m~/opt/anaconda3/lib/python3.9/site-packages/pandas/_libs/index.pyx:136\u001b[0m, in \u001b[0;36mpandas._libs.index.IndexEngine.get_loc\u001b[0;34m()\u001b[0m\n",
      "File \u001b[0;32m~/opt/anaconda3/lib/python3.9/site-packages/pandas/_libs/index.pyx:163\u001b[0m, in \u001b[0;36mpandas._libs.index.IndexEngine.get_loc\u001b[0;34m()\u001b[0m\n",
      "File \u001b[0;32mpandas/_libs/hashtable_class_helper.pxi:5198\u001b[0m, in \u001b[0;36mpandas._libs.hashtable.PyObjectHashTable.get_item\u001b[0;34m()\u001b[0m\n",
      "File \u001b[0;32mpandas/_libs/hashtable_class_helper.pxi:5206\u001b[0m, in \u001b[0;36mpandas._libs.hashtable.PyObjectHashTable.get_item\u001b[0;34m()\u001b[0m\n",
      "\u001b[0;31mKeyError\u001b[0m: 'cust'",
      "\nThe above exception was the direct cause of the following exception:\n",
      "\u001b[0;31mKeyError\u001b[0m                                  Traceback (most recent call last)",
      "Input \u001b[0;32mIn [13]\u001b[0m, in \u001b[0;36m<cell line: 10>\u001b[0;34m()\u001b[0m\n\u001b[1;32m      8\u001b[0m ratings_train \u001b[38;5;241m=\u001b[39m ratings\u001b[38;5;241m.\u001b[39miloc[:cutoff] \u001b[38;5;66;03m# 무작위로 섞인 데이터 중 TRAIN_SIZE에 해당하는 앞의 데이터를 ratings_train에 저장한다\u001b[39;00m\n\u001b[1;32m      9\u001b[0m ratings_test \u001b[38;5;241m=\u001b[39m ratings\u001b[38;5;241m.\u001b[39miloc[cutoff:] \u001b[38;5;66;03m# 나머지 뒷부분의 데이터를 ratings_test에 저장\u001b[39;00m\n\u001b[0;32m---> 10\u001b[0m ratings \u001b[38;5;241m=\u001b[39m \u001b[43mratings\u001b[49m\u001b[38;5;241;43m.\u001b[39;49m\u001b[43mpivot\u001b[49m\u001b[43m(\u001b[49m\u001b[43mindex\u001b[49m\u001b[43m \u001b[49m\u001b[38;5;241;43m=\u001b[39;49m\u001b[43m \u001b[49m\u001b[38;5;124;43m'\u001b[39;49m\u001b[38;5;124;43mcust\u001b[39;49m\u001b[38;5;124;43m'\u001b[39;49m\u001b[43m,\u001b[49m\u001b[43m \u001b[49m\u001b[43mcolumns\u001b[49m\u001b[43m \u001b[49m\u001b[38;5;241;43m=\u001b[39;49m\u001b[43m \u001b[49m\u001b[38;5;124;43m'\u001b[39;49m\u001b[38;5;124;43mpd_c\u001b[39;49m\u001b[38;5;124;43m'\u001b[39;49m\u001b[43m,\u001b[49m\u001b[43m \u001b[49m\u001b[43mvalues\u001b[49m\u001b[38;5;241;43m=\u001b[39;49m\u001b[38;5;124;43m'\u001b[39;49m\u001b[38;5;124;43mRating\u001b[39;49m\u001b[38;5;124;43m'\u001b[39;49m\u001b[43m)\u001b[49m\u001b[38;5;241m.\u001b[39mfillna(\u001b[38;5;241m0\u001b[39m)\n",
      "File \u001b[0;32m~/opt/anaconda3/lib/python3.9/site-packages/pandas/core/frame.py:7876\u001b[0m, in \u001b[0;36mDataFrame.pivot\u001b[0;34m(self, index, columns, values)\u001b[0m\n\u001b[1;32m   7871\u001b[0m \u001b[38;5;129m@Substitution\u001b[39m(\u001b[38;5;124m\"\u001b[39m\u001b[38;5;124m\"\u001b[39m)\n\u001b[1;32m   7872\u001b[0m \u001b[38;5;129m@Appender\u001b[39m(_shared_docs[\u001b[38;5;124m\"\u001b[39m\u001b[38;5;124mpivot\u001b[39m\u001b[38;5;124m\"\u001b[39m])\n\u001b[1;32m   7873\u001b[0m \u001b[38;5;28;01mdef\u001b[39;00m \u001b[38;5;21mpivot\u001b[39m(\u001b[38;5;28mself\u001b[39m, index\u001b[38;5;241m=\u001b[39m\u001b[38;5;28;01mNone\u001b[39;00m, columns\u001b[38;5;241m=\u001b[39m\u001b[38;5;28;01mNone\u001b[39;00m, values\u001b[38;5;241m=\u001b[39m\u001b[38;5;28;01mNone\u001b[39;00m) \u001b[38;5;241m-\u001b[39m\u001b[38;5;241m>\u001b[39m DataFrame:\n\u001b[1;32m   7874\u001b[0m     \u001b[38;5;28;01mfrom\u001b[39;00m \u001b[38;5;21;01mpandas\u001b[39;00m\u001b[38;5;21;01m.\u001b[39;00m\u001b[38;5;21;01mcore\u001b[39;00m\u001b[38;5;21;01m.\u001b[39;00m\u001b[38;5;21;01mreshape\u001b[39;00m\u001b[38;5;21;01m.\u001b[39;00m\u001b[38;5;21;01mpivot\u001b[39;00m \u001b[38;5;28;01mimport\u001b[39;00m pivot\n\u001b[0;32m-> 7876\u001b[0m     \u001b[38;5;28;01mreturn\u001b[39;00m \u001b[43mpivot\u001b[49m\u001b[43m(\u001b[49m\u001b[38;5;28;43mself\u001b[39;49m\u001b[43m,\u001b[49m\u001b[43m \u001b[49m\u001b[43mindex\u001b[49m\u001b[38;5;241;43m=\u001b[39;49m\u001b[43mindex\u001b[49m\u001b[43m,\u001b[49m\u001b[43m \u001b[49m\u001b[43mcolumns\u001b[49m\u001b[38;5;241;43m=\u001b[39;49m\u001b[43mcolumns\u001b[49m\u001b[43m,\u001b[49m\u001b[43m \u001b[49m\u001b[43mvalues\u001b[49m\u001b[38;5;241;43m=\u001b[39;49m\u001b[43mvalues\u001b[49m\u001b[43m)\u001b[49m\n",
      "File \u001b[0;32m~/opt/anaconda3/lib/python3.9/site-packages/pandas/core/reshape/pivot.py:506\u001b[0m, in \u001b[0;36mpivot\u001b[0;34m(data, index, columns, values)\u001b[0m\n\u001b[1;32m    504\u001b[0m         index_list \u001b[38;5;241m=\u001b[39m [Series(data\u001b[38;5;241m.\u001b[39mindex, name\u001b[38;5;241m=\u001b[39mdata\u001b[38;5;241m.\u001b[39mindex\u001b[38;5;241m.\u001b[39mname)]\n\u001b[1;32m    505\u001b[0m \u001b[38;5;28;01melse\u001b[39;00m:\n\u001b[0;32m--> 506\u001b[0m     index_list \u001b[38;5;241m=\u001b[39m [data[idx] \u001b[38;5;28;01mfor\u001b[39;00m idx \u001b[38;5;129;01min\u001b[39;00m com\u001b[38;5;241m.\u001b[39mconvert_to_list_like(index)]\n\u001b[1;32m    508\u001b[0m data_columns \u001b[38;5;241m=\u001b[39m [data[col] \u001b[38;5;28;01mfor\u001b[39;00m col \u001b[38;5;129;01min\u001b[39;00m columns_listlike]\n\u001b[1;32m    509\u001b[0m index_list\u001b[38;5;241m.\u001b[39mextend(data_columns)\n",
      "File \u001b[0;32m~/opt/anaconda3/lib/python3.9/site-packages/pandas/core/reshape/pivot.py:506\u001b[0m, in \u001b[0;36m<listcomp>\u001b[0;34m(.0)\u001b[0m\n\u001b[1;32m    504\u001b[0m         index_list \u001b[38;5;241m=\u001b[39m [Series(data\u001b[38;5;241m.\u001b[39mindex, name\u001b[38;5;241m=\u001b[39mdata\u001b[38;5;241m.\u001b[39mindex\u001b[38;5;241m.\u001b[39mname)]\n\u001b[1;32m    505\u001b[0m \u001b[38;5;28;01melse\u001b[39;00m:\n\u001b[0;32m--> 506\u001b[0m     index_list \u001b[38;5;241m=\u001b[39m [\u001b[43mdata\u001b[49m\u001b[43m[\u001b[49m\u001b[43midx\u001b[49m\u001b[43m]\u001b[49m \u001b[38;5;28;01mfor\u001b[39;00m idx \u001b[38;5;129;01min\u001b[39;00m com\u001b[38;5;241m.\u001b[39mconvert_to_list_like(index)]\n\u001b[1;32m    508\u001b[0m data_columns \u001b[38;5;241m=\u001b[39m [data[col] \u001b[38;5;28;01mfor\u001b[39;00m col \u001b[38;5;129;01min\u001b[39;00m columns_listlike]\n\u001b[1;32m    509\u001b[0m index_list\u001b[38;5;241m.\u001b[39mextend(data_columns)\n",
      "File \u001b[0;32m~/opt/anaconda3/lib/python3.9/site-packages/pandas/core/frame.py:3505\u001b[0m, in \u001b[0;36mDataFrame.__getitem__\u001b[0;34m(self, key)\u001b[0m\n\u001b[1;32m   3503\u001b[0m \u001b[38;5;28;01mif\u001b[39;00m \u001b[38;5;28mself\u001b[39m\u001b[38;5;241m.\u001b[39mcolumns\u001b[38;5;241m.\u001b[39mnlevels \u001b[38;5;241m>\u001b[39m \u001b[38;5;241m1\u001b[39m:\n\u001b[1;32m   3504\u001b[0m     \u001b[38;5;28;01mreturn\u001b[39;00m \u001b[38;5;28mself\u001b[39m\u001b[38;5;241m.\u001b[39m_getitem_multilevel(key)\n\u001b[0;32m-> 3505\u001b[0m indexer \u001b[38;5;241m=\u001b[39m \u001b[38;5;28;43mself\u001b[39;49m\u001b[38;5;241;43m.\u001b[39;49m\u001b[43mcolumns\u001b[49m\u001b[38;5;241;43m.\u001b[39;49m\u001b[43mget_loc\u001b[49m\u001b[43m(\u001b[49m\u001b[43mkey\u001b[49m\u001b[43m)\u001b[49m\n\u001b[1;32m   3506\u001b[0m \u001b[38;5;28;01mif\u001b[39;00m is_integer(indexer):\n\u001b[1;32m   3507\u001b[0m     indexer \u001b[38;5;241m=\u001b[39m [indexer]\n",
      "File \u001b[0;32m~/opt/anaconda3/lib/python3.9/site-packages/pandas/core/indexes/base.py:3623\u001b[0m, in \u001b[0;36mIndex.get_loc\u001b[0;34m(self, key, method, tolerance)\u001b[0m\n\u001b[1;32m   3621\u001b[0m     \u001b[38;5;28;01mreturn\u001b[39;00m \u001b[38;5;28mself\u001b[39m\u001b[38;5;241m.\u001b[39m_engine\u001b[38;5;241m.\u001b[39mget_loc(casted_key)\n\u001b[1;32m   3622\u001b[0m \u001b[38;5;28;01mexcept\u001b[39;00m \u001b[38;5;167;01mKeyError\u001b[39;00m \u001b[38;5;28;01mas\u001b[39;00m err:\n\u001b[0;32m-> 3623\u001b[0m     \u001b[38;5;28;01mraise\u001b[39;00m \u001b[38;5;167;01mKeyError\u001b[39;00m(key) \u001b[38;5;28;01mfrom\u001b[39;00m \u001b[38;5;21;01merr\u001b[39;00m\n\u001b[1;32m   3624\u001b[0m \u001b[38;5;28;01mexcept\u001b[39;00m \u001b[38;5;167;01mTypeError\u001b[39;00m:\n\u001b[1;32m   3625\u001b[0m     \u001b[38;5;66;03m# If we have a listlike key, _check_indexing_error will raise\u001b[39;00m\n\u001b[1;32m   3626\u001b[0m     \u001b[38;5;66;03m#  InvalidIndexError. Otherwise we fall through and re-raise\u001b[39;00m\n\u001b[1;32m   3627\u001b[0m     \u001b[38;5;66;03m#  the TypeError.\u001b[39;00m\n\u001b[1;32m   3628\u001b[0m     \u001b[38;5;28mself\u001b[39m\u001b[38;5;241m.\u001b[39m_check_indexing_error(key)\n",
      "\u001b[0;31mKeyError\u001b[0m: 'cust'"
     ]
    }
   ],
   "source": [
    "from sklearn.utils import shuffle # shuffle 라이브러리 불러오기\n",
    "\n",
    "TRAIN_SIZE = 0.75 # train set의 비율을 75%, test set의 비율을 25%로 지정한다\n",
    "\n",
    "# ratings를 무작위로 섞는다, 이 rating은 (사용자 - 영화 - 평점)이 하나의 세트로 되어 있기 때문에 섞어도 문제가 없음\n",
    "ratings = shuffle(ratings, random_state=1) \n",
    "cutoff = int(TRAIN_SIZE * len(ratings)) # 전체 데이터중 TRAIN_SIZE의 비율에 해당하는 데이터가 몇 개인지 계산한다.\n",
    "ratings_train = ratings.iloc[:cutoff] # 무작위로 섞인 데이터 중 TRAIN_SIZE에 해당하는 앞의 데이터를 ratings_train에 저장한다\n",
    "ratings_test = ratings.iloc[cutoff:] # 나머지 뒷부분의 데이터를 ratings_test에 저장\n",
    "ratings = ratings.pivot(index = 'cust', columns = 'pd_c', values='Rating').fillna(0)"
   ]
  },
  {
   "cell_type": "code",
   "execution_count": null,
   "id": "9f4194b2",
   "metadata": {
    "ExecuteTime": {
     "end_time": "2022-08-02T09:15:21.096734Z",
     "start_time": "2022-08-02T09:15:21.037647Z"
    }
   },
   "outputs": [],
   "source": [
    "class NEW_MF():\n",
    "    def __init__(self, ratings, K, alpha, beta, iterations, verbose=True):\n",
    "        self.R = np.array(ratings)\n",
    "        self.num_users, self.num_items = np.shape(self.R) # 사용자 수(num_users)와 아이템 수(num_items)를 받아옴\n",
    "        self.K = K # 잠재요인의 수\n",
    "        self.alpha = alpha # 학습률\n",
    "        self.beta = beta # 정규화 계수\n",
    "        self.iterations = iterations # SGD 반복 횟수\n",
    "        self.verbose = verbose # SGD 중간 학습과정을 출력할 것인가\n",
    "        \n",
    "        item_id_index = []\n",
    "        index_item_id = []\n",
    "        \n",
    "        for i, one_id in enumerate(ratings): # ratings의 각 아이템에 대해서 아래 작업을 수행\n",
    "            \n",
    "            # 아이디를 인덱스로 매핑해 주는 맵 item_id_index에 현재 아이템의 아이디와 인덱스를 저장\n",
    "            item_id_index.append([one_id, i]) \n",
    "             # 반대로 인덱스를 아이디로 매핑해 주는 맵 index_item_id에 현재 아이템의 인덱스와 아이디를 저장\n",
    "            index_item_id.append([i, one_id])\n",
    "        # 만들어진 맵을 dictionary 형태로 변환    \n",
    "        self.item_id_index = dict(item_id_index)\n",
    "        self.index_item_id = dict(index_item_id)\n",
    "        user_id_index = []\n",
    "        index_user_id = []\n",
    "        for i, one_id in enumerate(ratings.T):\n",
    "            user_id_index.append([one_id, i])\n",
    "            index_user_id.append([i,one_id])\n",
    "        self.user_id_index = dict(user_id_index)\n",
    "        self.index_user_id = dict(index_user_id)\n",
    "        \n",
    "    def set_test(self, ratings_test): # 분리된 test set을 넘겨받아서 클래스 내부의 test set을 만드는 함수\n",
    "        test_set = [] # test set에 해당되는 (사용자-아이템-평점)을 저장하는 test_set을 초기화\n",
    "        for i in range(len(ratings_test)): # 테스트 데이터에서 각(사용자 - 아이템 - 평점)에 대해서 아래 작업을 반복\n",
    "            x = self.user_id_index[ratings_test.iloc[i,0]] # 현재 사용자의 인덱스를 user_id_index에서 받아온다\n",
    "            y = self.item_id_index[ratings_test.iloc[i,1]] # 현재 아이템의 인덱스를 item_id_index에서 받아온다\n",
    "            z = ratings_test.iloc[i,2] # 현재 사용자-아이템의 평점을 받아온다\n",
    "            test_set.append([x,y,z]) # 현재 (사용자-아이템-평점)을 test_set에 추가한다\n",
    "            # 해당(사용자-아이템-평점)을 R에서 0으로 지운다, 지우는 이유는 R을 사용해서 MF모델을 학습을 하기 때문에 test set은\n",
    "            # R에서 제거해야 되기 때문\n",
    "            self.R[x,y] = 0  \n",
    "        self.test_set = test_set # test_set을 클래스에 저장\n",
    "        return test_set # test_set을 결과로 반환\n",
    "    \n",
    "    def rmse(self): # 현재의 P, Q를 가지고 RMSE를 계산해 주는 함수\n",
    "        xs,ys = self.R.nonzero() # R에서 평점이 있는(0이 아닌) 요소의 인덱스를 가져온다\n",
    "        self.predictions = []\n",
    "        self.errors = []\n",
    "        for x,y in zip(xs, ys): # 평점이 있는 요소(사용자 x, 아이템 y) 각각에 대해서 아래의 코드를 실행\n",
    "            \n",
    "            # 사용자 x, 아이템 y에 대해서 평점 예측치를 get_prediction()함수를 사용해서 계산한다.\n",
    "            prediction = self.get_prediction(x,y)\n",
    "            \n",
    "            self.predictions.append(prediction) # 예측값을 예측값 리스트에 추가\n",
    "            self.errors.append(self.R[x,y] - prediction) # 실제값(R)과 예측값의 차이(errors) 계산해서 오차값 리스트에 추가\n",
    "        self.predictions = np.array(self.predictions)\n",
    "        self.errors = np.array(self.errors)\n",
    "        \n",
    "        return np.sqrt(np.mean(self.errors**2)) # errors를 사용해서 RMSE를 계산\n",
    "    \n",
    "    def test_rmse(self):\n",
    "        error = 0\n",
    "        for one_set in self.test_set:\n",
    "            predicted = self.get_prediction(one_set[0], one_set[1])\n",
    "            error += pow(one_set[2] - predicted, 2)\n",
    "        return np.sqrt(error / len(self.test_set))\n",
    "    \n",
    "    def test(self):\n",
    "        self.P = np.random.normal(scale = 1./self.K, size = (self.num_users, self.K))\n",
    "        self.Q = np.random.normal(scale = 1./self.K, size = (self.num_items, self.K))\n",
    "        self.b_u = np.zeros(self.num_users)\n",
    "        self.b_d = np.zeros(self.num_items)\n",
    "        self.b = np.mean(self.R[self.R.nonzero()])\n",
    "        \n",
    "        rows, columns = self.R.nonzero()\n",
    "        self.samples = [(i,j,self.R[i,j]) for i,j in zip(rows, columns)]\n",
    "        training_process = []\n",
    "        for i in range(self.iterations):\n",
    "            np.random.shuffle(self.samples)\n",
    "            self.sgd()\n",
    "            rmse1 = self.rmse()\n",
    "            rmse2 = self.test_rmse()\n",
    "            training_process.append((i+1, rmse1, rmse2))\n",
    "            if self.verbose:\n",
    "                if (i+1) % 10 == 0:\n",
    "                    print(\"Iteration: %d ; Train RMSE = %.4f ; Test RMSE = %.4f\" %(i+1, rmse1, rmse2))\n",
    "        return training_process\n",
    "    \n",
    "    def get_prediction(self, i, j): # 평점 예측값을 구하는 함수\n",
    "        # 사용자 i, 아이템 j에 대한 평점 예측치를 구한다\n",
    "        prediction = self.b + self.b_u[i] + self.b_d[j] + self.P[i,:].dot(self.Q[j,:].T)\n",
    "        return prediction\n",
    "    \n",
    "    def get_one_prediction(self, user_id, item_id):\n",
    "        return self.get_prediction(self.user_id_index[user_id], self.item_id_index[item_id])\n",
    "    \n",
    "    def full_prediction(self):\n",
    "        return self.b + self.b_u[:,np.newaxis] + self.b_d[np.newaxis,:] + self.P.dot(self.Q.T)\n",
    "    \n",
    "    def sgd(self): # 실제로 SGD를 실행하는 함수\n",
    "        # samples에 있는 각 (사용자 - 아이템 - 평점) 세트에 대해서 SGD를 적용한다\n",
    "        for i, j, r in self.samples:\n",
    "            prediction = self.get_prediction(i,j) # 사용자 i, 아이템 j에 대한 평점 예측치를 구한다.\n",
    "            e = (r - prediction) # 실제 평점과 비교해서 오차를 구한다\n",
    "            \n",
    "            self.b_u[i] += self.alpha * (e - self.beta * self.b_u[i]) # 사용자 평가경향(bu)를 업데이트 한다\n",
    "            self.b_d[j] += self.alpha * (e - self.beta * self.b_d[j]) # 아이템 평가경향(bd)를 업데이트 한다\n",
    "            \n",
    "            self.P[i,:] += self.alpha * (e - self.Q[j,:] - self.beta * self.P[i,:]) # P행렬을 업데이트\n",
    "            self.Q[j,:] += self.alpha * (e - self.P[i,:] - self.beta * self.Q[j,:]) # Q행렬을 업데이트"
   ]
  },
  {
   "cell_type": "code",
   "execution_count": null,
   "id": "8c0cb8bb",
   "metadata": {
    "ExecuteTime": {
     "end_time": "2022-08-02T09:29:12.598735Z",
     "start_time": "2022-08-02T09:15:25.062045Z"
    }
   },
   "outputs": [],
   "source": [
    "R_temp = ratings\n",
    "mf = NEW_MF(R_temp, K=10, alpha=0.001, beta = 0.02, iterations = 10, verbose=True)\n",
    "test_set = mf.set_test(ratings_test)\n",
    "result = mf.test()"
   ]
  },
  {
   "cell_type": "code",
   "execution_count": null,
   "id": "293eca7a",
   "metadata": {},
   "outputs": [],
   "source": []
  }
 ],
 "metadata": {
  "kernelspec": {
   "display_name": "Python 3 (ipykernel)",
   "language": "python",
   "name": "python3"
  },
  "language_info": {
   "codemirror_mode": {
    "name": "ipython",
    "version": 3
   },
   "file_extension": ".py",
   "mimetype": "text/x-python",
   "name": "python",
   "nbconvert_exporter": "python",
   "pygments_lexer": "ipython3",
   "version": "3.9.12"
  },
  "toc": {
   "base_numbering": 1,
   "nav_menu": {},
   "number_sections": true,
   "sideBar": true,
   "skip_h1_title": false,
   "title_cell": "Table of Contents",
   "title_sidebar": "Contents",
   "toc_cell": false,
   "toc_position": {},
   "toc_section_display": true,
   "toc_window_display": false
  },
  "varInspector": {
   "cols": {
    "lenName": 16,
    "lenType": 16,
    "lenVar": 40
   },
   "kernels_config": {
    "python": {
     "delete_cmd_postfix": "",
     "delete_cmd_prefix": "del ",
     "library": "var_list.py",
     "varRefreshCmd": "print(var_dic_list())"
    },
    "r": {
     "delete_cmd_postfix": ") ",
     "delete_cmd_prefix": "rm(",
     "library": "var_list.r",
     "varRefreshCmd": "cat(var_dic_list()) "
    }
   },
   "types_to_exclude": [
    "module",
    "function",
    "builtin_function_or_method",
    "instance",
    "_Feature"
   ],
   "window_display": false
  }
 },
 "nbformat": 4,
 "nbformat_minor": 5
}
